{
 "cells": [
  {
   "cell_type": "markdown",
   "id": "fbf0820e",
   "metadata": {},
   "source": [
    "\n",
    "### Basic Setting \n",
    "\n",
    "```shell \n",
    "# Make virtual environment in project root.\n",
    "/opt/homebrew/bin/python3.12 -m venv .venv\n",
    "\n",
    "# Activate virtual environment\n",
    "source .venv/bin/activate\n",
    "\n",
    "# Install ipykernel \n",
    "python -m pip install --upgrade pip\n",
    "python -m pip install --upgrade ipykernel\n",
    "\n",
    "# Register jupyter kernel in virtual environment\n",
    "python -m ipykernel install --user --name=python312 --display-name \"Python 3.12 (proj)\"\n",
    "```"
   ]
  },
  {
   "cell_type": "markdown",
   "id": "e0fb10ec",
   "metadata": {},
   "source": [
    "### If necessary, write the code over multiple lines."
   ]
  },
  {
   "cell_type": "code",
   "execution_count": 2,
   "id": "7588b778",
   "metadata": {},
   "outputs": [
    {
     "name": "stdout",
     "output_type": "stream",
     "text": [
      "I am Hen-er-y the Eighth, I am!\n",
      "I am Hen-er-y the Eighth, I am! I am not just any Henry VIII really am!\n"
     ]
    }
   ],
   "source": [
    "my_str = 'I am Hen-er-y the Eighth,' ' I am!'\n",
    "print(my_str)\n",
    "\n",
    "my_str = ('I am Hen-er-y the Eighth, '\n",
    "          'I am! I am not just any Henry VII'\n",
    "          'I really am!'\n",
    "          )\n",
    "print(my_str)"
   ]
  },
  {
   "cell_type": "markdown",
   "id": "ed569e90",
   "metadata": {},
   "source": [
    "### Use the for loop wisely. "
   ]
  },
  {
   "cell_type": "code",
   "execution_count": 7,
   "id": "49c109f0",
   "metadata": {},
   "outputs": [
    {
     "name": "stdout",
     "output_type": "stream",
     "text": [
      "Jhon\n",
      "Paul\n",
      "George\n",
      "Ringo\n",
      "1. Jhon\n",
      "2. Paul\n",
      "3. George\n",
      "4. Ringo\n",
      "['Jhon', 'Paul', 'George', 'Ringo']\n",
      "['Haword', 'Haword', 'Haword', 'Haword']\n"
     ]
    }
   ],
   "source": [
    "beat_list = ['Jhon', 'Paul', 'George', 'Ringo']\n",
    "for guy in beat_list:\n",
    "  print(guy)\n",
    "\n",
    "\n",
    "for i, name in enumerate(beat_list, 1):\n",
    "  print(i, '. ', name, sep='')\n",
    "\n",
    "for guy in beat_list:\n",
    "  guy = 'Haword'\n",
    "\n",
    "print(beat_list)\n",
    "\n",
    "\n",
    "for i in range(len(beat_list)):\n",
    "  beat_list[i] = \"Haword\"\n",
    "\n",
    "print(beat_list)"
   ]
  },
  {
   "cell_type": "markdown",
   "id": "d91cd8a7",
   "metadata": {},
   "source": [
    "> If you attempt to change the value of a variable without using an index, a new object is created and assigned to the variable, rather than changing the value of the object the variable was referencing. In other words, the value of the existing object remains unchanged."
   ]
  }
 ],
 "metadata": {
  "kernelspec": {
   "display_name": ".venv (3.12.11)",
   "language": "python",
   "name": "python3"
  },
  "language_info": {
   "codemirror_mode": {
    "name": "ipython",
    "version": 3
   },
   "file_extension": ".py",
   "mimetype": "text/x-python",
   "name": "python",
   "nbconvert_exporter": "python",
   "pygments_lexer": "ipython3",
   "version": "3.12.11"
  }
 },
 "nbformat": 4,
 "nbformat_minor": 5
}
