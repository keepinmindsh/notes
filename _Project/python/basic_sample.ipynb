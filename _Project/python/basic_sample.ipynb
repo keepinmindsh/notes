{
 "cells": [
  {
   "cell_type": "markdown",
   "id": "fbf0820e",
   "metadata": {},
   "source": [
    "\n",
    "### Basic Setting \n",
    "\n",
    "```shell \n",
    "# Make virtual environment in project root.\n",
    "/opt/homebrew/bin/python3.12 -m venv .venv\n",
    "\n",
    "# Activate virtual environment\n",
    "source .venv/bin/activate\n",
    "\n",
    "# Install ipykernel \n",
    "python -m pip install --upgrade pip\n",
    "python -m pip install --upgrade ipykernel\n",
    "\n",
    "# Register jupyter kernel in virtual environment\n",
    "python -m ipykernel install --user --name=python312 --display-name \"Python 3.12 (proj)\"\n",
    "```"
   ]
  },
  {
   "cell_type": "markdown",
   "id": "e0fb10ec",
   "metadata": {},
   "source": [
    "### If necessary, write the code over multiple lines."
   ]
  },
  {
   "cell_type": "code",
   "execution_count": 2,
   "id": "7588b778",
   "metadata": {},
   "outputs": [
    {
     "name": "stdout",
     "output_type": "stream",
     "text": [
      "I am Hen-er-y the Eighth, I am!\n",
      "I am Hen-er-y the Eighth, I am! I am not just any Henry VIII really am!\n"
     ]
    }
   ],
   "source": [
    "my_str = 'I am Hen-er-y the Eighth,' ' I am!'\n",
    "print(my_str)\n",
    "\n",
    "my_str = ('I am Hen-er-y the Eighth, '\n",
    "          'I am! I am not just any Henry VII'\n",
    "          'I really am!'\n",
    "          )\n",
    "print(my_str)"
   ]
  },
  {
   "cell_type": "markdown",
   "id": "ed569e90",
   "metadata": {},
   "source": [
    "### Use the for loop wisely. "
   ]
  },
  {
   "cell_type": "code",
   "execution_count": 7,
   "id": "49c109f0",
   "metadata": {},
   "outputs": [
    {
     "name": "stdout",
     "output_type": "stream",
     "text": [
      "Jhon\n",
      "Paul\n",
      "George\n",
      "Ringo\n",
      "1. Jhon\n",
      "2. Paul\n",
      "3. George\n",
      "4. Ringo\n",
      "['Jhon', 'Paul', 'George', 'Ringo']\n",
      "['Haword', 'Haword', 'Haword', 'Haword']\n"
     ]
    }
   ],
   "source": [
    "beat_list = ['Jhon', 'Paul', 'George', 'Ringo']\n",
    "for guy in beat_list:\n",
    "  print(guy)\n",
    "\n",
    "\n",
    "for i, name in enumerate(beat_list, 1):\n",
    "  print(i, '. ', name, sep='')\n",
    "\n",
    "for guy in beat_list:\n",
    "  guy = 'Haword'\n",
    "\n",
    "print(beat_list)\n",
    "\n",
    "\n",
    "for i in range(len(beat_list)):\n",
    "  beat_list[i] = \"Haword\"\n",
    "\n",
    "print(beat_list)"
   ]
  },
  {
   "cell_type": "markdown",
   "id": "d91cd8a7",
   "metadata": {},
   "source": [
    "> If you attempt to change the value of a variable without using an index, a new object is created and assigned to the variable, rather than changing the value of the object the variable was referencing. In other words, the value of the existing object remains unchanged."
   ]
  },
  {
   "cell_type": "markdown",
   "id": "c6d3b477",
   "metadata": {},
   "source": [
    "### Understand combinations of assignment operators."
   ]
  },
  {
   "cell_type": "markdown",
   "id": "add5d0b1",
   "metadata": {},
   "source": [
    "New operations that don't directly modify values ​​are less efficient because they require the creation of new objects. Therefore, if processing speed is critical when creating large strings, it's better to use the join method instead of the += operator."
   ]
  },
  {
   "cell_type": "code",
   "execution_count": 8,
   "id": "e9d6bf7b",
   "metadata": {},
   "outputs": [
    {
     "name": "stdout",
     "output_type": "stream",
     "text": [
      "abcdefghijklmnopqrstuvwxyz\n"
     ]
    }
   ],
   "source": [
    "str_list = []\n",
    "n = ord('a')\n",
    "for i in range(n, n + 26):\n",
    "  str_list += chr(i)\n",
    "alphabet_str = ''.join(str_list)\n",
    "print(alphabet_str)"
   ]
  },
  {
   "cell_type": "markdown",
   "id": "ada8104c",
   "metadata": {},
   "source": [
    "\n",
    "- Memory-value-change operations\n",
    "- New-object-creation operations"
   ]
  },
  {
   "cell_type": "markdown",
   "id": "d0732256",
   "metadata": {},
   "source": [
    "### Use multiple assignment."
   ]
  },
  {
   "cell_type": "markdown",
   "id": "0df8a1a0",
   "metadata": {},
   "source": [
    "Multiple assignment is one of the most widely used coding shortcut techniques in Python."
   ]
  },
  {
   "cell_type": "code",
   "execution_count": 10,
   "id": "a40934d9",
   "metadata": {},
   "outputs": [],
   "source": [
    "a = b = c = d = e = 0 "
   ]
  },
  {
   "cell_type": "markdown",
   "id": "568847e9",
   "metadata": {},
   "source": [
    "As a result, the following code returns True.\n",
    "\n",
    "```python \n",
    "a is b \n",
    "```"
   ]
  },
  {
   "cell_type": "code",
   "execution_count": 11,
   "id": "fed90738",
   "metadata": {},
   "outputs": [
    {
     "name": "stdout",
     "output_type": "stream",
     "text": [
      "True\n"
     ]
    }
   ],
   "source": [
    "print(a is b)"
   ]
  },
  {
   "cell_type": "markdown",
   "id": "91812063",
   "metadata": {},
   "source": [
    "### Use tuple assignment "
   ]
  },
  {
   "cell_type": "code",
   "execution_count": 1,
   "id": "066bb153",
   "metadata": {},
   "outputs": [
    {
     "name": "stdout",
     "output_type": "stream",
     "text": [
      "1\n",
      "0\n",
      "(4, 8, 12)\n"
     ]
    }
   ],
   "source": [
    "a, b = 1, 0 \n",
    "print(a)\n",
    "print(b)\n",
    "\n",
    "c = 4, 8, 12\n",
    "print(c)"
   ]
  },
  {
   "cell_type": "code",
   "execution_count": 2,
   "id": "d4ba1fa2",
   "metadata": {},
   "outputs": [
    {
     "name": "stdout",
     "output_type": "stream",
     "text": [
      "1 1 2 3 5 8 13 21 34 55 89 "
     ]
    }
   ],
   "source": [
    "# fibo\n",
    "\n",
    "def fibo(n):\n",
    "  a, b = 1, 0\n",
    "\n",
    "  while a <= n:\n",
    "    print(a, end=' ')\n",
    "    a, b = a + b, a \n",
    "\n",
    "\n",
    "fibo(100)"
   ]
  },
  {
   "cell_type": "markdown",
   "id": "fc523470",
   "metadata": {},
   "source": [
    "Most programming languages ​​don't provide a way to set a and b simultaneously. This is impossible because the value of a would change simultaneously with the value of b. Therefore, temporary variables are typically required. In Python, you can write code like this:\n",
    "\n",
    "```python\n",
    "temp = a     # a 기존 값 보존 \n",
    "a = a + b    # a에 신규 갑 설정 \n",
    "b = temp     # b에 a의 기존값 저장 \n",
    "```\n",
    "\n",
    "If you use tuple assignment in python, it doesn't need temporary variables.\n",
    "\n",
    "```python\n",
    "a, b = a + b, a \n",
    "```"
   ]
  },
  {
   "cell_type": "code",
   "execution_count": 3,
   "id": "f8fc5103",
   "metadata": {},
   "outputs": [
    {
     "name": "stdout",
     "output_type": "stream",
     "text": [
      "1 25\n",
      "25 1\n"
     ]
    }
   ],
   "source": [
    "x, y = 1, 25 \n",
    "print(x, y)\n",
    "x, y = y, x \n",
    "print(x, y)"
   ]
  }
 ],
 "metadata": {
  "kernelspec": {
   "display_name": ".venv (3.12.11)",
   "language": "python",
   "name": "python3"
  },
  "language_info": {
   "codemirror_mode": {
    "name": "ipython",
    "version": 3
   },
   "file_extension": ".py",
   "mimetype": "text/x-python",
   "name": "python",
   "nbconvert_exporter": "python",
   "pygments_lexer": "ipython3",
   "version": "3.12.11"
  }
 },
 "nbformat": 4,
 "nbformat_minor": 5
}
